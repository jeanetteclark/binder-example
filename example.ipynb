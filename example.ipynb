{
 "cells": [
  {
   "cell_type": "code",
   "execution_count": null,
   "metadata": {},
   "outputs": [],
   "source": [
    "import pandas as pd\n",
    "import matplotlib.pyplot as plt\n",
    "\n",
    "# Read and subset our input data\n",
    "discharge = pd.read_csv(\"/var/data/input/discharge-data.csv\")\n",
    "rivers = ['Yukon', 'Mackenzie', 'Lena']\n",
    "discharge_subset = discharge[discharge.river.isin(rivers)]\n",
    "discharge_max = discharge_subset.groupby('river', as_index=False).max(numeric_only=True)\n",
    "\n",
    "# Create and save a barplot to the output directory\n",
    "plt.bar(discharge_max['river'], discharge_max['discharge'], color='maroon', width=0.4)\n",
    "plt.xlabel(\"River\")\n",
    "plt.ylabel(\"Max discharge\")\n",
    "plt.savefig(\"/var/data/output/max-discharge.png\")"
   ]
  }
 ],
 "metadata": {
  "kernelspec": {
   "display_name": "Python 3",
   "language": "python",
   "name": "python3"
  },
  "language_info": {
   "name": "python",
   "version": "3.9.6"
  }
 },
 "nbformat": 4,
 "nbformat_minor": 2
}
